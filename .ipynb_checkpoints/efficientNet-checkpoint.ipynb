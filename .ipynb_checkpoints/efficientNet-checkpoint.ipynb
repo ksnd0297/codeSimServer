{
 "cells": [
  {
   "cell_type": "code",
   "execution_count": 1,
   "id": "b16d10f4",
   "metadata": {},
   "outputs": [
    {
     "name": "stdout",
     "output_type": "stream",
     "text": [
      "WARNING:tensorflow:Please fix your imports. Module tensorflow.python.training.tracking.data_structures has been moved to tensorflow.python.trackable.data_structures. The old module will be deleted in version 2.11.\n"
     ]
    },
    {
     "ename": "FileNotFoundError",
     "evalue": "[Errno 2] No such file or directory: '/content/test1.png'",
     "output_type": "error",
     "traceback": [
      "\u001b[1;31m---------------------------------------------------------------------------\u001b[0m",
      "\u001b[1;31mFileNotFoundError\u001b[0m                         Traceback (most recent call last)",
      "Cell \u001b[1;32mIn[1], line 75\u001b[0m\n\u001b[0;32m     73\u001b[0m \u001b[38;5;28;01mfor\u001b[39;00m ii \u001b[38;5;129;01min\u001b[39;00m \u001b[38;5;28mrange\u001b[39m(\u001b[38;5;241m1\u001b[39m, \u001b[38;5;241m4\u001b[39m):\n\u001b[0;32m     74\u001b[0m     image_path \u001b[38;5;241m=\u001b[39m \u001b[38;5;124mf\u001b[39m\u001b[38;5;124m'\u001b[39m\u001b[38;5;124m/content/test\u001b[39m\u001b[38;5;132;01m{\u001b[39;00mii\u001b[38;5;132;01m}\u001b[39;00m\u001b[38;5;124m.\u001b[39m\u001b[38;5;132;01m{\u001b[39;00mfomat\u001b[38;5;132;01m}\u001b[39;00m\u001b[38;5;124m'\u001b[39m\n\u001b[1;32m---> 75\u001b[0m     \u001b[43mreplicate_image\u001b[49m\u001b[43m(\u001b[49m\u001b[43mimage_path\u001b[49m\u001b[43m,\u001b[49m\u001b[43m \u001b[49m\u001b[43msize\u001b[49m\u001b[43m,\u001b[49m\u001b[43m \u001b[49m\u001b[43mfomat\u001b[49m\u001b[43m,\u001b[49m\u001b[43m \u001b[49m\u001b[43mii\u001b[49m\u001b[43m)\u001b[49m\n\u001b[0;32m     77\u001b[0m \u001b[38;5;66;03m# 변환된 이미지 추출\u001b[39;00m\n\u001b[0;32m     78\u001b[0m test1 \u001b[38;5;241m=\u001b[39m extract(\u001b[38;5;124mf\u001b[39m\u001b[38;5;124m'\u001b[39m\u001b[38;5;124m/content/resizing_test1_\u001b[39m\u001b[38;5;132;01m{\u001b[39;00msize\u001b[38;5;132;01m}\u001b[39;00m\u001b[38;5;124mX\u001b[39m\u001b[38;5;132;01m{\u001b[39;00msize\u001b[38;5;132;01m}\u001b[39;00m\u001b[38;5;124m.png\u001b[39m\u001b[38;5;124m'\u001b[39m)\n",
      "Cell \u001b[1;32mIn[1], line 28\u001b[0m, in \u001b[0;36mreplicate_image\u001b[1;34m(image_path, size, fomat, ii)\u001b[0m\n\u001b[0;32m     27\u001b[0m \u001b[38;5;28;01mdef\u001b[39;00m \u001b[38;5;21mreplicate_image\u001b[39m(image_path, size, fomat, ii):\n\u001b[1;32m---> 28\u001b[0m     image \u001b[38;5;241m=\u001b[39m \u001b[43mImage\u001b[49m\u001b[38;5;241;43m.\u001b[39;49m\u001b[43mopen\u001b[49m\u001b[43m(\u001b[49m\u001b[43mimage_path\u001b[49m\u001b[43m)\u001b[49m\n\u001b[0;32m     29\u001b[0m     width, height \u001b[38;5;241m=\u001b[39m image\u001b[38;5;241m.\u001b[39msize\n\u001b[0;32m     30\u001b[0m     new_width \u001b[38;5;241m=\u001b[39m width \u001b[38;5;241m*\u001b[39m size\n",
      "File \u001b[1;32mC:\\anaconda3\\envs\\fastapi2\\lib\\site-packages\\PIL\\Image.py:3227\u001b[0m, in \u001b[0;36mopen\u001b[1;34m(fp, mode, formats)\u001b[0m\n\u001b[0;32m   3224\u001b[0m     filename \u001b[38;5;241m=\u001b[39m fp\n\u001b[0;32m   3226\u001b[0m \u001b[38;5;28;01mif\u001b[39;00m filename:\n\u001b[1;32m-> 3227\u001b[0m     fp \u001b[38;5;241m=\u001b[39m \u001b[43mbuiltins\u001b[49m\u001b[38;5;241;43m.\u001b[39;49m\u001b[43mopen\u001b[49m\u001b[43m(\u001b[49m\u001b[43mfilename\u001b[49m\u001b[43m,\u001b[49m\u001b[43m \u001b[49m\u001b[38;5;124;43m\"\u001b[39;49m\u001b[38;5;124;43mrb\u001b[39;49m\u001b[38;5;124;43m\"\u001b[39;49m\u001b[43m)\u001b[49m\n\u001b[0;32m   3228\u001b[0m     exclusive_fp \u001b[38;5;241m=\u001b[39m \u001b[38;5;28;01mTrue\u001b[39;00m\n\u001b[0;32m   3230\u001b[0m \u001b[38;5;28;01mtry\u001b[39;00m:\n",
      "\u001b[1;31mFileNotFoundError\u001b[0m: [Errno 2] No such file or directory: '/content/test1.png'"
     ]
    }
   ],
   "source": [
    "#Test Test Test\n",
    "import os\n",
    "from PIL import Image\n",
    "import tensorflow as tf\n",
    "import tensorflow_hub as hub\n",
    "import numpy as np\n",
    "from scipy.spatial import distance\n",
    "\n",
    "# 모델 URL\n",
    "#ver1\n",
    "model_url_v1_0 = \"https://tfhub.dev/tensorflow/efficientnet/b0/feature-vector/1\"\n",
    "model_url_v1_1 = \"https://tfhub.dev/google/efficientnet/b1/feature-vector/1\"\n",
    "model_url_v1_2 = \"https://tfhub.dev/tensorflow/efficientnet/b2/feature-vector/1\"\n",
    "model_url_v1_3 = \"https://tfhub.dev/google/efficientnet/b3/feature-vector/1\"\n",
    "model_url_v1_4 = \"https://tfhub.dev/tensorflow/efficientnet/b4/feature-vector/1\"\n",
    "model_url_v1_5 = \"https://tfhub.dev/google/efficientnet/b5/feature-vector/1\"\n",
    "model_url_v1_6 = \"https://tfhub.dev/google/efficientnet/b6/feature-vector/1\"\n",
    "model_url_v1_7 = \"https://tfhub.dev/google/efficientnet/b7/feature-vector/1\"\n",
    "\n",
    "#ver2\n",
    "model_url_v2_0 = \"https://tfhub.dev/google/imagenet/efficientnet_v2_imagenet21k_b0/feature_vector/2\"\n",
    "model_url_v2_1 = \"https://tfhub.dev/google/imagenet/efficientnet_v2_imagenet21k_ft1k_b1/feature_vector/2\"\n",
    "model_url_v2_2 = \"https://tfhub.dev/google/imagenet/efficientnet_v2_imagenet21k_ft1k_b2/feature_vector/2\"\n",
    "model_url_v2_3 = \"https://tfhub.dev/google/imagenet/efficientnet_v2_imagenet21k_ft1k_b3/feature_vector/2\"\n",
    "\n",
    "# 사이즈 변환 함수\n",
    "def replicate_image(image_path, size, fomat, ii):\n",
    "    image = Image.open(image_path)\n",
    "    width, height = image.size\n",
    "    new_width = width * size\n",
    "    new_height = height * size\n",
    "    new_image = Image.new('RGB', (new_width, new_height))\n",
    "    for i in range(size):\n",
    "        for j in range(size):\n",
    "            paste_x = i * width\n",
    "            paste_y = j * height\n",
    "            new_image.paste(image, (paste_x, paste_y))\n",
    "    new_image.save(f'resizing_test{ii}_{size}X{size}.{fomat}')\n",
    "\n",
    "# 이미지 추출 함수\n",
    "def extract(file):\n",
    "    file = Image.open(file).convert('L').resize(IMAGE_SHAPE)\n",
    "    file = np.stack((file,)*3, axis=-1)\n",
    "    file = np.array(file)/255.0\n",
    "    embedding = model.predict(file[np.newaxis, ...])\n",
    "    vgg16_feature_np = np.array(embedding)\n",
    "    flattended_feature = vgg16_feature_np.flatten()\n",
    "    print(flattended_feature)\n",
    "    return flattended_feature\n",
    "\n",
    "# 거리 계산 함수\n",
    "def calculate_distances(test1, test2, test3, metric1):\n",
    "    print('euclidean')\n",
    "    dc = distance.cdist([test1], [test1], metric1)[0]\n",
    "    print(100-dc)\n",
    "    dc1 = distance.cdist([test1], [test2], metric1)[0]\n",
    "    print(100-dc1, end='')\n",
    "    dc2 = distance.cdist([test1], [test3], metric1)[0]\n",
    "    print(100-dc2, end='')\n",
    "    dc3 = distance.cdist([test2], [test3], metric1)[0]\n",
    "    print(100-dc3, end='')\n",
    "\n",
    "# 하이퍼파라미터\n",
    "size = 6\n",
    "fomat = 'png'\n",
    "#IMAGE_SHAPE = (224, 224)\n",
    "IMAGE_SHAPE = (1024, 1024)\n",
    "layer = hub.KerasLayer(model_url_v2_0) #모델은 V1이 0~7까지, V2는 0~3까지 존재\n",
    "model = tf.keras.Sequential([layer])\n",
    "metric1 = 'euclidean'\n",
    "\n",
    "# 이미지 복제 및 size X size 형식의 이미지 생성\n",
    "for ii in range(1, 4):\n",
    "    image_path = f'test{ii}.{fomat}'\n",
    "    replicate_image(image_path, size, fomat, ii)\n",
    "\n",
    "# 변환된 이미지 추출\n",
    "test1 = extract(f'resizing_test1_{size}X{size}.png')\n",
    "test2 = extract(f'resizing_test2_{size}X{size}.png')\n",
    "test3 = extract(f'resizing_test3_{size}X{size}.png')\n",
    "\n",
    "# 결과 \n",
    "calculate_distances(test1, test2, test3, metric1)"
   ]
  },
  {
   "cell_type": "code",
   "execution_count": null,
   "id": "490d3fc1",
   "metadata": {},
   "outputs": [],
   "source": []
  }
 ],
 "metadata": {
  "kernelspec": {
   "display_name": "Python 3 (ipykernel)",
   "language": "python",
   "name": "python3"
  },
  "language_info": {
   "codemirror_mode": {
    "name": "ipython",
    "version": 3
   },
   "file_extension": ".py",
   "mimetype": "text/x-python",
   "name": "python",
   "nbconvert_exporter": "python",
   "pygments_lexer": "ipython3",
   "version": "3.8.16"
  }
 },
 "nbformat": 4,
 "nbformat_minor": 5
}
